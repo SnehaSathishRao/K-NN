{
 "cells": [
  {
   "cell_type": "markdown",
   "metadata": {},
   "source": [
    "# KNN (k-nearest neighbour) Amazon reviews"
   ]
  },
  {
   "cell_type": "code",
   "execution_count": 210,
   "metadata": {},
   "outputs": [],
   "source": [
    "import sqlite3\n",
    "import numpy as np\n",
    "import pandas as pd\n",
    "import seaborn as sns\n",
    "import matplotlib.pyplot as plt\n",
    "from sklearn import datasets \n",
    "from sklearn import neighbors\n",
    "from matplotlib.colors import ListedColormap\n",
    "from sklearn import cross_validation\n",
    "from sklearn.metrics import accuracy_score\n",
    "from sklearn.cross_validation import cross_val_score\n",
    "from sklearn.model_selection import cross_val_predict\n",
    "from sklearn.metrics import confusion_matrix\n",
    "import scikitplot as skplt\n",
    "from sklearn.metrics import f1_score"
   ]
  },
  {
   "cell_type": "markdown",
   "metadata": {},
   "source": [
    "# Load data"
   ]
  },
  {
   "cell_type": "code",
   "execution_count": 211,
   "metadata": {},
   "outputs": [],
   "source": [
    "#Data here used is preprocessed(deduplication,removal of html tags,punctuation,stop words,stemming)\n",
    "con =sqlite3.connect(r'C:\\Users\\Friend\\AI\\AI_datasets\\Amazon\\cleaned_database.sqlite')\n",
    "filtered_data  = pd.read_sql_query('SELECT * FROM Reviews WHERE Score != 3',con)\n",
    "filtered_data = filtered_data.drop('index',axis = 1)\n",
    "\n",
    "filtered_data = filtered_data.sort_values('Time')"
   ]
  },
  {
   "cell_type": "markdown",
   "metadata": {},
   "source": [
    "# Sampling data"
   ]
  },
  {
   "cell_type": "code",
   "execution_count": 212,
   "metadata": {},
   "outputs": [
    {
     "data": {
      "text/plain": [
       "Index(['Id', 'ProductId', 'UserId', 'ProfileName', 'HelpfulnessNumerator',\n",
       "       'HelpfulnessDenominator', 'Score', 'Time', 'Summary', 'Text',\n",
       "       'CleanedText'],\n",
       "      dtype='object')"
      ]
     },
     "execution_count": 212,
     "metadata": {},
     "output_type": "execute_result"
    }
   ],
   "source": [
    "data = filtered_data.head(30000)\n",
    "data.columns"
   ]
  },
  {
   "cell_type": "code",
   "execution_count": 213,
   "metadata": {},
   "outputs": [
    {
     "name": "stdout",
     "output_type": "stream",
     "text": [
      "(21000,) (21000,) (9000,) (9000,)\n"
     ]
    }
   ],
   "source": [
    "X_train, X_test, y_train, y_test = cross_validation.train_test_split(data['CleanedText'], data['Score'], test_size=0.3, random_state=0)\n",
    "print(X_train.shape,y_train.shape,X_test.shape,y_test.shape)"
   ]
  },
  {
   "cell_type": "markdown",
   "metadata": {},
   "source": [
    "# BOW"
   ]
  },
  {
   "cell_type": "code",
   "execution_count": 214,
   "metadata": {},
   "outputs": [],
   "source": [
    "# Performing BOW on review\n",
    "from sklearn.feature_extraction.text import CountVectorizer\n",
    "count_vect = CountVectorizer()\n",
    "vocabulary = count_vect.fit(X_train)"
   ]
  },
  {
   "cell_type": "code",
   "execution_count": 215,
   "metadata": {},
   "outputs": [
    {
     "name": "stdout",
     "output_type": "stream",
     "text": [
      "(21000, 18506)\n"
     ]
    }
   ],
   "source": [
    "bag_of_words_train = count_vect.transform(X_train)\n",
    "print(bag_of_words_train.shape)"
   ]
  },
  {
   "cell_type": "markdown",
   "metadata": {},
   "source": [
    "# 4-fold Cross Validation"
   ]
  },
  {
   "cell_type": "code",
   "execution_count": 216,
   "metadata": {},
   "outputs": [
    {
     "name": "stderr",
     "output_type": "stream",
     "text": [
      "C:\\Users\\Friend\\Anaconda3\\lib\\site-packages\\sklearn\\neighbors\\base.py:212: UserWarning: cannot use tree with sparse input: using brute force\n",
      "  warnings.warn(\"cannot use tree with sparse input: \"\n",
      "C:\\Users\\Friend\\Anaconda3\\lib\\site-packages\\sklearn\\neighbors\\base.py:212: UserWarning: cannot use tree with sparse input: using brute force\n",
      "  warnings.warn(\"cannot use tree with sparse input: \"\n",
      "C:\\Users\\Friend\\Anaconda3\\lib\\site-packages\\sklearn\\neighbors\\base.py:212: UserWarning: cannot use tree with sparse input: using brute force\n",
      "  warnings.warn(\"cannot use tree with sparse input: \"\n",
      "C:\\Users\\Friend\\Anaconda3\\lib\\site-packages\\sklearn\\neighbors\\base.py:212: UserWarning: cannot use tree with sparse input: using brute force\n",
      "  warnings.warn(\"cannot use tree with sparse input: \"\n",
      "C:\\Users\\Friend\\Anaconda3\\lib\\site-packages\\sklearn\\neighbors\\base.py:212: UserWarning: cannot use tree with sparse input: using brute force\n",
      "  warnings.warn(\"cannot use tree with sparse input: \"\n",
      "C:\\Users\\Friend\\Anaconda3\\lib\\site-packages\\sklearn\\neighbors\\base.py:212: UserWarning: cannot use tree with sparse input: using brute force\n",
      "  warnings.warn(\"cannot use tree with sparse input: \"\n",
      "C:\\Users\\Friend\\Anaconda3\\lib\\site-packages\\sklearn\\neighbors\\base.py:212: UserWarning: cannot use tree with sparse input: using brute force\n",
      "  warnings.warn(\"cannot use tree with sparse input: \"\n",
      "C:\\Users\\Friend\\Anaconda3\\lib\\site-packages\\sklearn\\neighbors\\base.py:212: UserWarning: cannot use tree with sparse input: using brute force\n",
      "  warnings.warn(\"cannot use tree with sparse input: \"\n",
      "C:\\Users\\Friend\\Anaconda3\\lib\\site-packages\\sklearn\\neighbors\\base.py:212: UserWarning: cannot use tree with sparse input: using brute force\n",
      "  warnings.warn(\"cannot use tree with sparse input: \"\n",
      "C:\\Users\\Friend\\Anaconda3\\lib\\site-packages\\sklearn\\neighbors\\base.py:212: UserWarning: cannot use tree with sparse input: using brute force\n",
      "  warnings.warn(\"cannot use tree with sparse input: \"\n",
      "C:\\Users\\Friend\\Anaconda3\\lib\\site-packages\\sklearn\\neighbors\\base.py:212: UserWarning: cannot use tree with sparse input: using brute force\n",
      "  warnings.warn(\"cannot use tree with sparse input: \"\n",
      "C:\\Users\\Friend\\Anaconda3\\lib\\site-packages\\sklearn\\neighbors\\base.py:212: UserWarning: cannot use tree with sparse input: using brute force\n",
      "  warnings.warn(\"cannot use tree with sparse input: \"\n",
      "C:\\Users\\Friend\\Anaconda3\\lib\\site-packages\\sklearn\\neighbors\\base.py:212: UserWarning: cannot use tree with sparse input: using brute force\n",
      "  warnings.warn(\"cannot use tree with sparse input: \"\n",
      "C:\\Users\\Friend\\Anaconda3\\lib\\site-packages\\sklearn\\neighbors\\base.py:212: UserWarning: cannot use tree with sparse input: using brute force\n",
      "  warnings.warn(\"cannot use tree with sparse input: \"\n",
      "C:\\Users\\Friend\\Anaconda3\\lib\\site-packages\\sklearn\\neighbors\\base.py:212: UserWarning: cannot use tree with sparse input: using brute force\n",
      "  warnings.warn(\"cannot use tree with sparse input: \"\n",
      "C:\\Users\\Friend\\Anaconda3\\lib\\site-packages\\sklearn\\neighbors\\base.py:212: UserWarning: cannot use tree with sparse input: using brute force\n",
      "  warnings.warn(\"cannot use tree with sparse input: \"\n",
      "C:\\Users\\Friend\\Anaconda3\\lib\\site-packages\\sklearn\\neighbors\\base.py:212: UserWarning: cannot use tree with sparse input: using brute force\n",
      "  warnings.warn(\"cannot use tree with sparse input: \"\n",
      "C:\\Users\\Friend\\Anaconda3\\lib\\site-packages\\sklearn\\neighbors\\base.py:212: UserWarning: cannot use tree with sparse input: using brute force\n",
      "  warnings.warn(\"cannot use tree with sparse input: \"\n",
      "C:\\Users\\Friend\\Anaconda3\\lib\\site-packages\\sklearn\\neighbors\\base.py:212: UserWarning: cannot use tree with sparse input: using brute force\n",
      "  warnings.warn(\"cannot use tree with sparse input: \"\n",
      "C:\\Users\\Friend\\Anaconda3\\lib\\site-packages\\sklearn\\neighbors\\base.py:212: UserWarning: cannot use tree with sparse input: using brute force\n",
      "  warnings.warn(\"cannot use tree with sparse input: \"\n"
     ]
    }
   ],
   "source": [
    "#4 fold cross validation using kd-tree algorithm\n",
    "myList = list(range(5,15))\n",
    "k_values = list(filter(lambda x: x % 2 != 0, myList))\n",
    "\n",
    "#claculate CV scores\n",
    "f1_scores_bow = []\n",
    "for k in k_values:\n",
    "    knn = neighbors.KNeighborsClassifier(n_neighbors=k,algorithm = 'kd_tree')\n",
    "    pred = cross_val_predict(knn, bag_of_words_train, y_train, cv=4)  \n",
    "    tn, fp, fn, tp = confusion_matrix(y_train, pred).ravel()\n",
    "    pr,re = (tp)/(tp+fp),(tp)/(tp+fn)\n",
    "    score=(2*pr*re)/(pr+re)\n",
    "    f1_scores_bow.append(score)"
   ]
  },
  {
   "cell_type": "code",
   "execution_count": 217,
   "metadata": {},
   "outputs": [
    {
     "data": {
      "image/png": "[encoded data removed]",
      "text/plain": [
       "<Figure size 432x288 with 1 Axes>"
      ]
     },
     "metadata": {},
     "output_type": "display_data"
    }
   ],
   "source": [
    "plt.plot(k_values,f1_scores_bow)\n",
    "for xy in zip(k_values, np.round(f1_scores_bow,5)):\n",
    "    plt.annotate('(%s, %s)' % xy, xy=xy, textcoords='data')\n",
    "plt.xlabel('Number of Neighbors K')\n",
    "plt.ylabel('f1_score_bow')\n",
    "plt.show()"
   ]
  },
  {
   "cell_type": "code",
   "execution_count": 218,
   "metadata": {},
   "outputs": [
    {
     "data": {
      "text/plain": [
       "11"
      ]
     },
     "execution_count": 218,
     "metadata": {},
     "output_type": "execute_result"
    }
   ],
   "source": [
    "#sELECTING K VALUE WITH MINIMUM ERROR\n",
    "f1_score_bow_train = max(f1_scores_bow)\n",
    "optimal_k_BOW = k_values[f1_scores_bow.index(max(f1_scores_bow))]\n",
    "optimal_k_BOW"
   ]
  },
  {
   "cell_type": "code",
   "execution_count": 219,
   "metadata": {},
   "outputs": [
    {
     "name": "stdout",
     "output_type": "stream",
     "text": [
      "(9000, 18506)\n"
     ]
    }
   ],
   "source": [
    "bag_of_words_test = count_vect.transform(X_test)\n",
    "print(bag_of_words_test.shape)"
   ]
  },
  {
   "cell_type": "code",
   "execution_count": 220,
   "metadata": {},
   "outputs": [
    {
     "name": "stderr",
     "output_type": "stream",
     "text": [
      "C:\\Users\\Friend\\Anaconda3\\lib\\site-packages\\sklearn\\neighbors\\base.py:212: UserWarning: cannot use tree with sparse input: using brute force\n",
      "  warnings.warn(\"cannot use tree with sparse input: \"\n"
     ]
    },
    {
     "name": "stdout",
     "output_type": "stream",
     "text": [
      "f1 score is 0.9433562731604023\n"
     ]
    },
    {
     "data": {
      "text/plain": [
       "<matplotlib.axes._subplots.AxesSubplot at 0x24ed3e80d30>"
      ]
     },
     "execution_count": 220,
     "metadata": {},
     "output_type": "execute_result"
    },
    {
     "data": {
      "image/png": "[encoded data removed]",
      "text/plain": [
       "<Figure size 432x288 with 2 Axes>"
      ]
     },
     "metadata": {},
     "output_type": "display_data"
    }
   ],
   "source": [
    "#Performing K-NN for optimal k-value using test data\n",
    "knn_optimal = neighbors.KNeighborsClassifier(n_neighbors=optimal_k_BOW,algorithm = 'kd_tree')\n",
    "knn_optimal.fit(bag_of_words_train, y_train)\n",
    "\n",
    "#predicting using test data\n",
    "pred = knn_optimal.predict(bag_of_words_test)\n",
    "tn, fp, fn, tp = confusion_matrix(y_test, pred).ravel()\n",
    "pr,re = (tp)/(tp+fp),(tp)/(tp+fn)\n",
    "f1_score_bow_test = (2*pr*re)/(pr+re)\n",
    "print('f1 score is',f1_score_bow_test)\n",
    "\n",
    "#plot confusion matrix\n",
    "skplt.metrics.plot_confusion_matrix(y_test, pred, normalize=False)"
   ]
  },
  {
   "cell_type": "markdown",
   "metadata": {},
   "source": [
    "# tfidf"
   ]
  },
  {
   "cell_type": "code",
   "execution_count": 221,
   "metadata": {},
   "outputs": [],
   "source": [
    "from sklearn.feature_extraction.text import TfidfVectorizer\n",
    "\n",
    "tf_idf_vect = TfidfVectorizer(ngram_range=(1,2))\n",
    "vocabulary = tf_idf_vect.fit(X_train)"
   ]
  },
  {
   "cell_type": "code",
   "execution_count": 222,
   "metadata": {},
   "outputs": [
    {
     "name": "stdout",
     "output_type": "stream",
     "text": [
      "(21000, 379449)\n"
     ]
    }
   ],
   "source": [
    "tf_idf_train = tf_idf_vect.transform(X_train)\n",
    "print(tf_idf_train.shape)"
   ]
  },
  {
   "cell_type": "markdown",
   "metadata": {},
   "source": [
    "# 4-fold Cross Validation"
   ]
  },
  {
   "cell_type": "code",
   "execution_count": 223,
   "metadata": {},
   "outputs": [
    {
     "name": "stderr",
     "output_type": "stream",
     "text": [
      "C:\\Users\\Friend\\Anaconda3\\lib\\site-packages\\sklearn\\neighbors\\base.py:212: UserWarning: cannot use tree with sparse input: using brute force\n",
      "  warnings.warn(\"cannot use tree with sparse input: \"\n",
      "C:\\Users\\Friend\\Anaconda3\\lib\\site-packages\\sklearn\\neighbors\\base.py:212: UserWarning: cannot use tree with sparse input: using brute force\n",
      "  warnings.warn(\"cannot use tree with sparse input: \"\n",
      "C:\\Users\\Friend\\Anaconda3\\lib\\site-packages\\sklearn\\neighbors\\base.py:212: UserWarning: cannot use tree with sparse input: using brute force\n",
      "  warnings.warn(\"cannot use tree with sparse input: \"\n",
      "C:\\Users\\Friend\\Anaconda3\\lib\\site-packages\\sklearn\\neighbors\\base.py:212: UserWarning: cannot use tree with sparse input: using brute force\n",
      "  warnings.warn(\"cannot use tree with sparse input: \"\n",
      "C:\\Users\\Friend\\Anaconda3\\lib\\site-packages\\sklearn\\neighbors\\base.py:212: UserWarning: cannot use tree with sparse input: using brute force\n",
      "  warnings.warn(\"cannot use tree with sparse input: \"\n",
      "C:\\Users\\Friend\\Anaconda3\\lib\\site-packages\\sklearn\\neighbors\\base.py:212: UserWarning: cannot use tree with sparse input: using brute force\n",
      "  warnings.warn(\"cannot use tree with sparse input: \"\n",
      "C:\\Users\\Friend\\Anaconda3\\lib\\site-packages\\sklearn\\neighbors\\base.py:212: UserWarning: cannot use tree with sparse input: using brute force\n",
      "  warnings.warn(\"cannot use tree with sparse input: \"\n",
      "C:\\Users\\Friend\\Anaconda3\\lib\\site-packages\\sklearn\\neighbors\\base.py:212: UserWarning: cannot use tree with sparse input: using brute force\n",
      "  warnings.warn(\"cannot use tree with sparse input: \"\n",
      "C:\\Users\\Friend\\Anaconda3\\lib\\site-packages\\sklearn\\neighbors\\base.py:212: UserWarning: cannot use tree with sparse input: using brute force\n",
      "  warnings.warn(\"cannot use tree with sparse input: \"\n",
      "C:\\Users\\Friend\\Anaconda3\\lib\\site-packages\\sklearn\\neighbors\\base.py:212: UserWarning: cannot use tree with sparse input: using brute force\n",
      "  warnings.warn(\"cannot use tree with sparse input: \"\n",
      "C:\\Users\\Friend\\Anaconda3\\lib\\site-packages\\sklearn\\neighbors\\base.py:212: UserWarning: cannot use tree with sparse input: using brute force\n",
      "  warnings.warn(\"cannot use tree with sparse input: \"\n",
      "C:\\Users\\Friend\\Anaconda3\\lib\\site-packages\\sklearn\\neighbors\\base.py:212: UserWarning: cannot use tree with sparse input: using brute force\n",
      "  warnings.warn(\"cannot use tree with sparse input: \"\n",
      "C:\\Users\\Friend\\Anaconda3\\lib\\site-packages\\sklearn\\neighbors\\base.py:212: UserWarning: cannot use tree with sparse input: using brute force\n",
      "  warnings.warn(\"cannot use tree with sparse input: \"\n",
      "C:\\Users\\Friend\\Anaconda3\\lib\\site-packages\\sklearn\\neighbors\\base.py:212: UserWarning: cannot use tree with sparse input: using brute force\n",
      "  warnings.warn(\"cannot use tree with sparse input: \"\n",
      "C:\\Users\\Friend\\Anaconda3\\lib\\site-packages\\sklearn\\neighbors\\base.py:212: UserWarning: cannot use tree with sparse input: using brute force\n",
      "  warnings.warn(\"cannot use tree with sparse input: \"\n",
      "C:\\Users\\Friend\\Anaconda3\\lib\\site-packages\\sklearn\\neighbors\\base.py:212: UserWarning: cannot use tree with sparse input: using brute force\n",
      "  warnings.warn(\"cannot use tree with sparse input: \"\n",
      "C:\\Users\\Friend\\Anaconda3\\lib\\site-packages\\sklearn\\neighbors\\base.py:212: UserWarning: cannot use tree with sparse input: using brute force\n",
      "  warnings.warn(\"cannot use tree with sparse input: \"\n",
      "C:\\Users\\Friend\\Anaconda3\\lib\\site-packages\\sklearn\\neighbors\\base.py:212: UserWarning: cannot use tree with sparse input: using brute force\n",
      "  warnings.warn(\"cannot use tree with sparse input: \"\n",
      "C:\\Users\\Friend\\Anaconda3\\lib\\site-packages\\sklearn\\neighbors\\base.py:212: UserWarning: cannot use tree with sparse input: using brute force\n",
      "  warnings.warn(\"cannot use tree with sparse input: \"\n",
      "C:\\Users\\Friend\\Anaconda3\\lib\\site-packages\\sklearn\\neighbors\\base.py:212: UserWarning: cannot use tree with sparse input: using brute force\n",
      "  warnings.warn(\"cannot use tree with sparse input: \"\n"
     ]
    }
   ],
   "source": [
    "#4 fold cross validation using kd-tree algorithm\n",
    "myList = list(range(5,15))\n",
    "k_values = list(filter(lambda x: x % 2 != 0, myList))\n",
    "\n",
    "f1_scores_tfidf_train = []\n",
    "for k in k_values:\n",
    "    knn = neighbors.KNeighborsClassifier(n_neighbors=k,alg[orithm = 'kd_tree')\n",
    "    pred = cross_val_predict(knn, tf_idf_train, y_train, cv=4)  \n",
    "    tn, fp, fn, tp = confusion_matrix(y_train, pred).ravel()\n",
    "    pr,re = (tp)/(tp+fp),(tp)/(tp+fn)\n",
    "    score=(2*pr*re)/(pr+re)\n",
    "    f1_scores_tfidf_train.append(score)"
   ]
  },
  {
   "cell_type": "code",
   "execution_count": 224,
   "metadata": {},
   "outputs": [
    {
     "data": {
      "image/png": "[encoded data removed]",
      "text/plain": [
       "<Figure size 432x288 with 1 Axes>"
      ]
     },
     "metadata": {},
     "output_type": "display_data"
    }
   ],
   "source": [
    "plt.plot(k_values,f1_scores_tfidf_train)\n",
    "for xy in zip(k_values, np.round(f1_scores_tfidf_train,3)):\n",
    "    plt.annotate('(%s, %s)' % xy, xy=xy, textcoords='data')\n",
    "plt.xlabel('Number of Neighbors K')\n",
    "plt.ylabel('f1_scores_tfidf')\n",
    "plt.show()"
   ]
  },
  {
   "cell_type": "code",
   "execution_count": 225,
   "metadata": {},
   "outputs": [
    {
     "data": {
      "text/plain": [
       "7"
      ]
     },
     "execution_count": 225,
     "metadata": {},
     "output_type": "execute_result"
    }
   ],
   "source": [
    "#sELECTING K VALUE WITH MINIMUM ERROR\n",
    "f1_score_tfidf_train = max(f1_scores_tfidf_train)\n",
    "optimal_k_tfidf = k_values[f1_scores_tfidf_train.index(max(f1_scores_tfidf_train))]\n",
    "optimal_k_tfidf"
   ]
  },
  {
   "cell_type": "code",
   "execution_count": 226,
   "metadata": {},
   "outputs": [
    {
     "name": "stdout",
     "output_type": "stream",
     "text": [
      "(9000, 379449)\n"
     ]
    }
   ],
   "source": [
    "tf_idf_test = tf_idf_vect.transform(X_test)\n",
    "print(tf_idf_test.shape)"
   ]
  },
  {
   "cell_type": "code",
   "execution_count": 227,
   "metadata": {},
   "outputs": [
    {
     "name": "stderr",
     "output_type": "stream",
     "text": [
      "C:\\Users\\Friend\\Anaconda3\\lib\\site-packages\\sklearn\\neighbors\\base.py:212: UserWarning: cannot use tree with sparse input: using brute force\n",
      "  warnings.warn(\"cannot use tree with sparse input: \"\n"
     ]
    },
    {
     "name": "stdout",
     "output_type": "stream",
     "text": [
      "f1 score is 0.9471684672919388\n"
     ]
    },
    {
     "data": {
      "text/plain": [
       "<matplotlib.axes._subplots.AxesSubplot at 0x24e9373b710>"
      ]
     },
     "execution_count": 227,
     "metadata": {},
     "output_type": "execute_result"
    },
    {
     "data": {
      "image/png": "[encoded data removed]",
      "text/plain": [
       "<Figure size 432x288 with 2 Axes>"
      ]
     },
     "metadata": {},
     "output_type": "display_data"
    }
   ],
   "source": [
    "#Performing K-NN for optimal k-value using test data\n",
    "knn_optimal = neighbors.KNeighborsClassifier(n_neighbors=optimal_k_tfidf,algorithm = 'kd_tree')\n",
    "knn_optimal.fit(tf_idf_train, y_train)\n",
    "\n",
    "#predicting using test data\n",
    "pred = knn_optimal.predict(tf_idf_test)\n",
    "tn, fp, fn, tp = confusion_matrix(y_test, pred).ravel()\n",
    "pr,re = (tp)/(tp+fp),(tp)/(tp+fn)\n",
    "f1_score_tfidf_test = (2*pr*re)/(pr+re)\n",
    "print('f1 score is',f1_score_tfidf_test)\n",
    "\n",
    "#plot confusion matrix\n",
    "skplt.metrics.plot_confusion_matrix(y_test, pred, normalize=False)"
   ]
  },
  {
   "cell_type": "markdown",
   "metadata": {},
   "source": [
    "# KNN - Avgword2vec"
   ]
  },
  {
   "cell_type": "code",
   "execution_count": 228,
   "metadata": {},
   "outputs": [],
   "source": [
    "from gensim.models import Word2Vec\n",
    "\n",
    "i=0\n",
    "list_of_sent=[]\n",
    "for sent in X_train:\n",
    "    list_of_sent.append(sent.split())\n",
    "\n",
    "#word2vec\n",
    "w2v_model=Word2Vec(list_of_sent,min_count=5,size=50, workers=4)\n",
    "w2v_words = list(w2v_model.wv.vocab)\n",
    "\n",
    "#Average word2vec\n",
    "sent_vectors_train = []; \n",
    "for sent in list_of_sent: \n",
    "    sent_vec = np.zeros(50) \n",
    "    cnt_words =0; \n",
    "    for word in sent: \n",
    "        if word in w2v_words:\n",
    "            vec = w2v_model.wv[word]\n",
    "            sent_vec += vec\n",
    "            cnt_words += 1\n",
    "    if cnt_words != 0:\n",
    "        sent_vec /= cnt_words\n",
    "    sent_vectors_train.append(sent_vec)"
   ]
  },
  {
   "cell_type": "markdown",
   "metadata": {},
   "source": [
    "# 4-fold Cross Validation"
   ]
  },
  {
   "cell_type": "code",
   "execution_count": 229,
   "metadata": {},
   "outputs": [],
   "source": [
    "#4 fold cross validation using kd-tree algorithm\n",
    "myList = list(range(5,15))\n",
    "k_values = list(filter(lambda x: x % 2 != 0, myList))\n",
    "\n",
    "#claculate CV scores\n",
    "f1_scores_word2vec_train = []\n",
    "for k in k_values:\n",
    "    knn = neighbors.KNeighborsClassifier(n_neighbors=k,algorithm = 'kd_tree')\n",
    "    pred = cross_val_predict(knn, sent_vectors_train, y_train, cv=4)  \n",
    "    tn, fp, fn, tp = confusion_matrix(y_train, pred).ravel()\n",
    "    pr,re = (tp)/(tp+fp),(tp)/(tp+fn)\n",
    "    score=(2*pr*re)/(pr+re)\n",
    "    f1_scores_word2vec_train.append(score)"
   ]
  },
  {
   "cell_type": "code",
   "execution_count": 230,
   "metadata": {},
   "outputs": [
    {
     "data": {
      "image/png": "[encoded data removed]",
      "text/plain": [
       "<Figure size 432x288 with 1 Axes>"
      ]
     },
     "metadata": {},
     "output_type": "display_data"
    }
   ],
   "source": [
    "plt.plot(k_values,f1_scores_word2vec_train)\n",
    "for xy in zip(k_values, np.round(f1_scores_word2vec_train,4)):\n",
    "    plt.annotate('(%s, %s)' % xy, xy=xy, textcoords='data')\n",
    "plt.xlabel('Number of Neighbors K')\n",
    "plt.ylabel('f1_scores_word2vec')\n",
    "plt.show()"
   ]
  },
  {
   "cell_type": "code",
   "execution_count": 231,
   "metadata": {},
   "outputs": [
    {
     "data": {
      "text/plain": [
       "13"
      ]
     },
     "execution_count": 231,
     "metadata": {},
     "output_type": "execute_result"
    }
   ],
   "source": [
    "#Considering k value with maximum f1-score\n",
    "f1_score_word2vec_train = max(f1_scores_word2vec_train)\n",
    "optimal_k_Word2Vec = k_values[f1_scores_word2vec_train.index(max(f1_scores_word2vec_train))]\n",
    "optimal_k_Word2Vec"
   ]
  },
  {
   "cell_type": "code",
   "execution_count": 232,
   "metadata": {},
   "outputs": [],
   "source": [
    "from gensim.models import Word2Vec\n",
    "\n",
    "i=0\n",
    "list_of_sent=[]\n",
    "for sent in X_test:\n",
    "    list_of_sent.append(sent.split())\n",
    "\n",
    "#Average word2vec\n",
    "sent_vectors_test = []; \n",
    "for sent in list_of_sent: \n",
    "    sent_vec = np.zeros(50) \n",
    "    cnt_words =0; \n",
    "    for word in sent: \n",
    "        if word in w2v_words:\n",
    "            vec = w2v_model.wv[word]\n",
    "            sent_vec += vec\n",
    "            cnt_words += 1\n",
    "    if cnt_words != 0:\n",
    "        sent_vec /= cnt_words\n",
    "    sent_vectors_test.append(sent_vec)"
   ]
  },
  {
   "cell_type": "code",
   "execution_count": 233,
   "metadata": {},
   "outputs": [
    {
     "name": "stdout",
     "output_type": "stream",
     "text": [
      "f1 score is 0.9461533884690903\n"
     ]
    },
    {
     "data": {
      "text/plain": [
       "<matplotlib.axes._subplots.AxesSubplot at 0x24ed2482be0>"
      ]
     },
     "execution_count": 233,
     "metadata": {},
     "output_type": "execute_result"
    },
    {
     "data": {
      "image/png": "[encoded data removed]",
      "text/plain": [
       "<Figure size 432x288 with 2 Axes>"
      ]
     },
     "metadata": {},
     "output_type": "display_data"
    }
   ],
   "source": [
    "#Performing K-NN for optimal k-value using test data\n",
    "knn_optimal = neighbors.KNeighborsClassifier(n_neighbors=optimal_k_Word2Vec,algorithm = 'kd_tree')\n",
    "knn_optimal.fit(sent_vectors_train, y_train)\n",
    "\n",
    "#predicting using test data\n",
    "pred = knn_optimal.predict(sent_vectors_test)\n",
    "tn, fp, fn, tp = confusion_matrix(y_test, pred).ravel()\n",
    "pr,re = (tp)/(tp+fp),(tp)/(tp+fn)\n",
    "f1_score_word2vec_test = (2*pr*re)/(pr+re)\n",
    "print('f1 score is',f1_score_word2vec_test)\n",
    "\n",
    "#plot confusion matrix\n",
    "skplt.metrics.plot_confusion_matrix(y_test, pred, normalize=False)"
   ]
  },
  {
   "cell_type": "markdown",
   "metadata": {},
   "source": [
    "# KNN - tfidf weighted word2vec"
   ]
  },
  {
   "cell_type": "code",
   "execution_count": 236,
   "metadata": {},
   "outputs": [],
   "source": [
    "from sklearn.feature_extraction.text import TfidfVectorizer\n",
    "\n",
    "tf_idf_vect = TfidfVectorizer(ngram_range=(1,2))\n",
    "vocabulary = tf_idf_vect.fit(X_train)\n",
    "tf_idf_train = tf_idf_vect.transform(X_train)"
   ]
  },
  {
   "cell_type": "code",
   "execution_count": 240,
   "metadata": {},
   "outputs": [
    {
     "name": "stdout",
     "output_type": "stream",
     "text": [
      "(21000, 379449)\n"
     ]
    }
   ],
   "source": [
    "print(tf_idf_train.shape)"
   ]
  },
  {
   "cell_type": "code",
   "execution_count": null,
   "metadata": {},
   "outputs": [],
   "source": [
    "import gensim\n",
    "\n",
    "i=0\n",
    "list_of_sent=[]\n",
    "for sent in X_train:\n",
    "    list_of_sent.append(sent.split())\n",
    "\n",
    "#get tf_idf\n",
    "tfidf_feat = tf_idf_vect.get_feature_names()\n",
    "tfidf_sent_vectors_train = []; \n",
    "\n",
    "#word2vec\n",
    "w2v_model =Word2Vec(list_of_sent,min_count=5,size=50, workers=4)\n",
    "w2v_words = list(w2v_model.wv.vocab)\n",
    "\n",
    "#tfidf wieghted vector\n",
    "row=0;\n",
    "for sent in list_of_sent: \n",
    "    sent_vec = np.zeros(50) \n",
    "    weight_sum =0; \n",
    "    for word in sent: \n",
    "        if word in w2v_words:\n",
    "            vec = w2v_model.wv[word]            \n",
    "            tf_idf = tf_idf_train[row, tfidf_feat.index(word)]\n",
    "            sent_vec += (vec * tf_idf)\n",
    "            weight_sum += tf_idf\n",
    "        else:\n",
    "            continue\n",
    "    if weight_sum != 0:\n",
    "        sent_vec /= weight_sum\n",
    "    tfidf_sent_vectors_train.append(sent_vec)\n",
    "    row += 1"
   ]
  },
  {
   "cell_type": "markdown",
   "metadata": {},
   "source": [
    "# 4-fold Cross Validation"
   ]
  },
  {
   "cell_type": "code",
   "execution_count": 242,
   "metadata": {},
   "outputs": [],
   "source": [
    "#4 fold cross validation using kd-tree algorithm\n",
    "myList = list(range(5,20))\n",
    "k_values = list(filter(lambda x: x % 2 != 0, myList))\n",
    "\n",
    "#claculate CV scores\n",
    "f1_scores_tfidf_ww_train = []\n",
    "for k in k_values:\n",
    "    knn = neighbors.KNeighborsClassifier(n_neighbors=k,algorithm = 'kd_tree')\n",
    "    pred = cross_val_predict(knn, tfidf_sent_vectors_train, y_train, cv=4)  \n",
    "    tn, fp, fn, tp = confusion_matrix(y_train, pred).ravel()\n",
    "    pr,re = (tp)/(tp+fp),(tp)/(tp+fn)\n",
    "    score=(2*pr*re)/(pr+re)\n",
    "    f1_scores_tfidf_ww_train.append(score)"
   ]
  },
  {
   "cell_type": "code",
   "execution_count": 244,
   "metadata": {},
   "outputs": [
    {
     "data": {
      "image/png": "[encoded data removed]",
      "text/plain": [
       "<Figure size 432x288 with 1 Axes>"
      ]
     },
     "metadata": {},
     "output_type": "display_data"
    }
   ],
   "source": [
    "plt.plot(k_values,f1_scores_tfidf_ww_train)\n",
    "for xy in zip(k_values, np.round(f1_scores_tfidf_ww_train,3)):\n",
    "    plt.annotate('(%s, %s)' % xy, xy=xy, textcoords='data')\n",
    "plt.xlabel('Number of Neighbors K')\n",
    "plt.ylabel('f1_scores_tfidf_ww')\n",
    "plt.show()"
   ]
  },
  {
   "cell_type": "code",
   "execution_count": 245,
   "metadata": {},
   "outputs": [
    {
     "data": {
      "text/plain": [
       "17"
      ]
     },
     "execution_count": 245,
     "metadata": {},
     "output_type": "execute_result"
    }
   ],
   "source": [
    "#Considering k value with maximum f1-score\n",
    "f1_score_tfidf_ww_train = max(f1_scores_tfidf_ww_train)\n",
    "optimal_k_tfidfww = k_values[f1_scores_tfidf_ww_train.index(max(f1_scores_tfidf_ww_train))]\n",
    "optimal_k_tfidfww"
   ]
  },
  {
   "cell_type": "code",
   "execution_count": 246,
   "metadata": {},
   "outputs": [
    {
     "name": "stdout",
     "output_type": "stream",
     "text": [
      "(9000, 379449)\n"
     ]
    }
   ],
   "source": [
    "tf_idf_test = tf_idf_vect.transform(X_test)\n",
    "print(tf_idf_test.shape)"
   ]
  },
  {
   "cell_type": "code",
   "execution_count": null,
   "metadata": {},
   "outputs": [],
   "source": [
    "import gensim\n",
    "\n",
    "i=0\n",
    "list_of_sent=[]\n",
    "for sent in X_test:\n",
    "    list_of_sent.append(sent.split())\n",
    "\n",
    "#get tf_idf\n",
    "tfidf_feat = tf_idf_vect.get_feature_names()\n",
    "tfidf_sent_vectors_test = []; \n",
    "\n",
    "#tfidf wieghted vector\n",
    "row=0;\n",
    "for sent in list_of_sent: \n",
    "    sent_vec = np.zeros(50) \n",
    "    weight_sum =0; \n",
    "    for word in sent: \n",
    "        if word in w2v_words:\n",
    "            vec = w2v_model.wv[word]            \n",
    "            tf_idf = tf_idf_test[row, tfidf_feat.index(word)]\n",
    "            sent_vec += (vec * tf_idf)\n",
    "            weight_sum += tf_idf\n",
    "        else:\n",
    "            continue\n",
    "    if weight_sum != 0:\n",
    "        sent_vec /= weight_sum\n",
    "    tfidf_sent_vectors_test.append(sent_vec)\n",
    "    row += 1"
   ]
  },
  {
   "cell_type": "code",
   "execution_count": 249,
   "metadata": {},
   "outputs": [
    {
     "name": "stdout",
     "output_type": "stream",
     "text": [
      "f1 score is 0.9458898832454218\n"
     ]
    },
    {
     "data": {
      "text/plain": [
       "<matplotlib.axes._subplots.AxesSubplot at 0x24ee738ecc0>"
      ]
     },
     "execution_count": 249,
     "metadata": {},
     "output_type": "execute_result"
    },
    {
     "data": {
      "image/png": "[encoded data removed]",
      "text/plain": [
       "<Figure size 432x288 with 2 Axes>"
      ]
     },
     "metadata": {},
     "output_type": "display_data"
    }
   ],
   "source": [
    "#Performing K-NN for optimal k-value using test data\n",
    "knn_optimal = neighbors.KNeighborsClassifier(n_neighbors=optimal_k_tfidfww,algorithm = 'kd_tree')\n",
    "knn_optimal.fit(tfidf_sent_vectors_train, y_train)\n",
    "\n",
    "#predicting using test data\n",
    "pred = knn_optimal.predict(tfidf_sent_vectors_test)\n",
    "tn, fp, fn, tp = confusion_matrix(y_test, pred).ravel()\n",
    "pr,re = (tp)/(tp+fp),(tp)/(tp+fn)\n",
    "f1_score_tfidf_ww_test = (2*pr*re)/(pr+re)\n",
    "print('f1 score is',f1_score_tfidf_ww_test)\n",
    "\n",
    "#plot confusion matrix\n",
    "skplt.metrics.plot_confusion_matrix(y_test, pred, normalize=False)"
   ]
  },
  {
   "cell_type": "markdown",
   "metadata": {},
   "source": [
    "# Conclusion"
   ]
  },
  {
   "cell_type": "code",
   "execution_count": 250,
   "metadata": {},
   "outputs": [
    {
     "name": "stdout",
     "output_type": "stream",
     "text": [
      "+--------------------------+--------------------+--------------------+--------------------+\n",
      "|          Model           | Hyper_parameter(K) |   Train f1-score   |   Test f1-score    |\n",
      "+--------------------------+--------------------+--------------------+--------------------+\n",
      "|           BOW            |         11         | 0.9432983198569234 | 0.9433562731604023 |\n",
      "|          TF_IDF          |         7          | 0.9470129738238505 | 0.9471684672919388 |\n",
      "|       Avg Word2Vec       |         13         | 0.9455183640248245 | 0.9461533884690903 |\n",
      "| TF_IDF_wieghted_Word2Vec |         17         | 0.9442105797027945 | 0.9458898832454218 |\n",
      "+--------------------------+--------------------+--------------------+--------------------+\n"
     ]
    }
   ],
   "source": [
    "from prettytable import PrettyTable\n",
    "    \n",
    "Table = PrettyTable()\n",
    "\n",
    "Table.field_names  = [\"Model\", \"Hyper_parameter(K)\", \"Train f1-score\", \"Test f1-score\"]\n",
    "\n",
    "Table.add_row([\"BOW\", optimal_k_BOW, f1_score_bow_train,f1_score_bow_test])\n",
    "Table.add_row([\"TF_IDF\", optimal_k_tfidf, f1_score_tfidf_train,f1_score_tfidf_test])\n",
    "Table.add_row([\"Avg Word2Vec\", optimal_k_Word2Vec,f1_score_word2vec_train, f1_score_word2vec_test])\n",
    "Table.add_row([\"TF_IDF_wieghted_Word2Vec\", optimal_k_tfidfww, f1_score_tfidf_ww_train,f1_score_tfidf_ww_test])\n",
    "\n",
    "print(Table)"
   ]
  }
 ],
 "metadata": {
  "kernelspec": {
   "display_name": "Python 3",
   "language": "python",
   "name": "python3"
  },
  "language_info": {
   "codemirror_mode": {
    "name": "ipython",
    "version": 3
   },
   "file_extension": ".py",
   "mimetype": "text/x-python",
   "name": "python",
   "nbconvert_exporter": "python",
   "pygments_lexer": "ipython3",
   "version": "3.6.5"
  }
 },
 "nbformat": 4,
 "nbformat_minor": 2
}
